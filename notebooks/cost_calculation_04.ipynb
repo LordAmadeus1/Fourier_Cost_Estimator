{
  "nbformat": 4,
  "nbformat_minor": 0,
  "metadata": {
    "colab": {
      "provenance": []
    },
    "kernelspec": {
      "name": "python3",
      "display_name": "Python 3"
    },
    "language_info": {
      "name": "python"
    }
  },
  "cells": [
    {
      "cell_type": "markdown",
      "source": [
        "# Cost Calculation\n",
        "\n",
        "**Objective:**\n",
        "\n",
        "Estimate the production cost of a given part based on its reconstructed geometry. This includes calculating its physical length (in cm), estimating its mass (g) based on material density, and computing its cost using real-world price data.\n"
      ],
      "metadata": {
        "id": "BYYuKWS8ihh_"
      }
    },
    {
      "cell_type": "markdown",
      "source": [
        "#Load data"
      ],
      "metadata": {
        "id": "XR5_SnBZ3VHi"
      }
    },
    {
      "cell_type": "code",
      "source": [
        "import cv2\n",
        "import pandas as pd\n",
        "import numpy as np\n",
        "import math"
      ],
      "metadata": {
        "id": "HzfxQd_41kGL"
      },
      "execution_count": null,
      "outputs": []
    },
    {
      "cell_type": "code",
      "source": [
        "url = \"/content/materials_price.csv\"\n",
        "\n",
        "df = pd.read_csv(url)\n",
        "df.info()"
      ],
      "metadata": {
        "colab": {
          "base_uri": "https://localhost:8080/"
        },
        "id": "SwiZj8gq1wdb",
        "outputId": "52a0a142-0cae-444f-8ed9-3db94654e8ef"
      },
      "execution_count": null,
      "outputs": [
        {
          "output_type": "stream",
          "name": "stdout",
          "text": [
            "<class 'pandas.core.frame.DataFrame'>\n",
            "RangeIndex: 10 entries, 0 to 9\n",
            "Data columns (total 4 columns):\n",
            " #   Column           Non-Null Count  Dtype \n",
            "---  ------           --------------  ----- \n",
            " 0   material         10 non-null     object\n",
            " 1   density_g_cm3    10 non-null     object\n",
            " 2   price_per_g_eur  10 non-null     object\n",
            " 3   type             10 non-null     object\n",
            "dtypes: object(4)\n",
            "memory usage: 452.0+ bytes\n"
          ]
        }
      ]
    },
    {
      "cell_type": "code",
      "source": [
        "df.head()"
      ],
      "metadata": {
        "colab": {
          "base_uri": "https://localhost:8080/",
          "height": 206
        },
        "id": "_1sdT_Rt3GSn",
        "outputId": "2a72de62-264f-4882-9820-09e7d03b1307"
      },
      "execution_count": null,
      "outputs": [
        {
          "output_type": "execute_result",
          "data": {
            "text/plain": [
              "  material  density_g_cm3  price_per_g_eur     type\n",
              "0      PLA           1.24            0.030  plastic\n",
              "1      ABS           1.04            0.030  plastic\n",
              "2     PETG           1.27            0.035  plastic\n",
              "3    Resin           1.10            0.050    resin\n",
              "4   Silver          10.49            1.140    metal"
            ],
            "text/html": [
              "\n",
              "  <div id=\"df-03472987-27e0-4547-9bd6-2d1becb21fc2\" class=\"colab-df-container\">\n",
              "    <div>\n",
              "<style scoped>\n",
              "    .dataframe tbody tr th:only-of-type {\n",
              "        vertical-align: middle;\n",
              "    }\n",
              "\n",
              "    .dataframe tbody tr th {\n",
              "        vertical-align: top;\n",
              "    }\n",
              "\n",
              "    .dataframe thead th {\n",
              "        text-align: right;\n",
              "    }\n",
              "</style>\n",
              "<table border=\"1\" class=\"dataframe\">\n",
              "  <thead>\n",
              "    <tr style=\"text-align: right;\">\n",
              "      <th></th>\n",
              "      <th>material</th>\n",
              "      <th>density_g_cm3</th>\n",
              "      <th>price_per_g_eur</th>\n",
              "      <th>type</th>\n",
              "    </tr>\n",
              "  </thead>\n",
              "  <tbody>\n",
              "    <tr>\n",
              "      <th>0</th>\n",
              "      <td>PLA</td>\n",
              "      <td>1.24</td>\n",
              "      <td>0.030</td>\n",
              "      <td>plastic</td>\n",
              "    </tr>\n",
              "    <tr>\n",
              "      <th>1</th>\n",
              "      <td>ABS</td>\n",
              "      <td>1.04</td>\n",
              "      <td>0.030</td>\n",
              "      <td>plastic</td>\n",
              "    </tr>\n",
              "    <tr>\n",
              "      <th>2</th>\n",
              "      <td>PETG</td>\n",
              "      <td>1.27</td>\n",
              "      <td>0.035</td>\n",
              "      <td>plastic</td>\n",
              "    </tr>\n",
              "    <tr>\n",
              "      <th>3</th>\n",
              "      <td>Resin</td>\n",
              "      <td>1.10</td>\n",
              "      <td>0.050</td>\n",
              "      <td>resin</td>\n",
              "    </tr>\n",
              "    <tr>\n",
              "      <th>4</th>\n",
              "      <td>Silver</td>\n",
              "      <td>10.49</td>\n",
              "      <td>1.140</td>\n",
              "      <td>metal</td>\n",
              "    </tr>\n",
              "  </tbody>\n",
              "</table>\n",
              "</div>\n",
              "    <div class=\"colab-df-buttons\">\n",
              "\n",
              "  <div class=\"colab-df-container\">\n",
              "    <button class=\"colab-df-convert\" onclick=\"convertToInteractive('df-03472987-27e0-4547-9bd6-2d1becb21fc2')\"\n",
              "            title=\"Convert this dataframe to an interactive table.\"\n",
              "            style=\"display:none;\">\n",
              "\n",
              "  <svg xmlns=\"http://www.w3.org/2000/svg\" height=\"24px\" viewBox=\"0 -960 960 960\">\n",
              "    <path d=\"M120-120v-720h720v720H120Zm60-500h600v-160H180v160Zm220 220h160v-160H400v160Zm0 220h160v-160H400v160ZM180-400h160v-160H180v160Zm440 0h160v-160H620v160ZM180-180h160v-160H180v160Zm440 0h160v-160H620v160Z\"/>\n",
              "  </svg>\n",
              "    </button>\n",
              "\n",
              "  <style>\n",
              "    .colab-df-container {\n",
              "      display:flex;\n",
              "      gap: 12px;\n",
              "    }\n",
              "\n",
              "    .colab-df-convert {\n",
              "      background-color: #E8F0FE;\n",
              "      border: none;\n",
              "      border-radius: 50%;\n",
              "      cursor: pointer;\n",
              "      display: none;\n",
              "      fill: #1967D2;\n",
              "      height: 32px;\n",
              "      padding: 0 0 0 0;\n",
              "      width: 32px;\n",
              "    }\n",
              "\n",
              "    .colab-df-convert:hover {\n",
              "      background-color: #E2EBFA;\n",
              "      box-shadow: 0px 1px 2px rgba(60, 64, 67, 0.3), 0px 1px 3px 1px rgba(60, 64, 67, 0.15);\n",
              "      fill: #174EA6;\n",
              "    }\n",
              "\n",
              "    .colab-df-buttons div {\n",
              "      margin-bottom: 4px;\n",
              "    }\n",
              "\n",
              "    [theme=dark] .colab-df-convert {\n",
              "      background-color: #3B4455;\n",
              "      fill: #D2E3FC;\n",
              "    }\n",
              "\n",
              "    [theme=dark] .colab-df-convert:hover {\n",
              "      background-color: #434B5C;\n",
              "      box-shadow: 0px 1px 3px 1px rgba(0, 0, 0, 0.15);\n",
              "      filter: drop-shadow(0px 1px 2px rgba(0, 0, 0, 0.3));\n",
              "      fill: #FFFFFF;\n",
              "    }\n",
              "  </style>\n",
              "\n",
              "    <script>\n",
              "      const buttonEl =\n",
              "        document.querySelector('#df-03472987-27e0-4547-9bd6-2d1becb21fc2 button.colab-df-convert');\n",
              "      buttonEl.style.display =\n",
              "        google.colab.kernel.accessAllowed ? 'block' : 'none';\n",
              "\n",
              "      async function convertToInteractive(key) {\n",
              "        const element = document.querySelector('#df-03472987-27e0-4547-9bd6-2d1becb21fc2');\n",
              "        const dataTable =\n",
              "          await google.colab.kernel.invokeFunction('convertToInteractive',\n",
              "                                                    [key], {});\n",
              "        if (!dataTable) return;\n",
              "\n",
              "        const docLinkHtml = 'Like what you see? Visit the ' +\n",
              "          '<a target=\"_blank\" href=https://colab.research.google.com/notebooks/data_table.ipynb>data table notebook</a>'\n",
              "          + ' to learn more about interactive tables.';\n",
              "        element.innerHTML = '';\n",
              "        dataTable['output_type'] = 'display_data';\n",
              "        await google.colab.output.renderOutput(dataTable, element);\n",
              "        const docLink = document.createElement('div');\n",
              "        docLink.innerHTML = docLinkHtml;\n",
              "        element.appendChild(docLink);\n",
              "      }\n",
              "    </script>\n",
              "  </div>\n",
              "\n",
              "\n",
              "    <div id=\"df-6e7e8da4-6331-4b02-bf05-faeee9ccce89\">\n",
              "      <button class=\"colab-df-quickchart\" onclick=\"quickchart('df-6e7e8da4-6331-4b02-bf05-faeee9ccce89')\"\n",
              "                title=\"Suggest charts\"\n",
              "                style=\"display:none;\">\n",
              "\n",
              "<svg xmlns=\"http://www.w3.org/2000/svg\" height=\"24px\"viewBox=\"0 0 24 24\"\n",
              "     width=\"24px\">\n",
              "    <g>\n",
              "        <path d=\"M19 3H5c-1.1 0-2 .9-2 2v14c0 1.1.9 2 2 2h14c1.1 0 2-.9 2-2V5c0-1.1-.9-2-2-2zM9 17H7v-7h2v7zm4 0h-2V7h2v10zm4 0h-2v-4h2v4z\"/>\n",
              "    </g>\n",
              "</svg>\n",
              "      </button>\n",
              "\n",
              "<style>\n",
              "  .colab-df-quickchart {\n",
              "      --bg-color: #E8F0FE;\n",
              "      --fill-color: #1967D2;\n",
              "      --hover-bg-color: #E2EBFA;\n",
              "      --hover-fill-color: #174EA6;\n",
              "      --disabled-fill-color: #AAA;\n",
              "      --disabled-bg-color: #DDD;\n",
              "  }\n",
              "\n",
              "  [theme=dark] .colab-df-quickchart {\n",
              "      --bg-color: #3B4455;\n",
              "      --fill-color: #D2E3FC;\n",
              "      --hover-bg-color: #434B5C;\n",
              "      --hover-fill-color: #FFFFFF;\n",
              "      --disabled-bg-color: #3B4455;\n",
              "      --disabled-fill-color: #666;\n",
              "  }\n",
              "\n",
              "  .colab-df-quickchart {\n",
              "    background-color: var(--bg-color);\n",
              "    border: none;\n",
              "    border-radius: 50%;\n",
              "    cursor: pointer;\n",
              "    display: none;\n",
              "    fill: var(--fill-color);\n",
              "    height: 32px;\n",
              "    padding: 0;\n",
              "    width: 32px;\n",
              "  }\n",
              "\n",
              "  .colab-df-quickchart:hover {\n",
              "    background-color: var(--hover-bg-color);\n",
              "    box-shadow: 0 1px 2px rgba(60, 64, 67, 0.3), 0 1px 3px 1px rgba(60, 64, 67, 0.15);\n",
              "    fill: var(--button-hover-fill-color);\n",
              "  }\n",
              "\n",
              "  .colab-df-quickchart-complete:disabled,\n",
              "  .colab-df-quickchart-complete:disabled:hover {\n",
              "    background-color: var(--disabled-bg-color);\n",
              "    fill: var(--disabled-fill-color);\n",
              "    box-shadow: none;\n",
              "  }\n",
              "\n",
              "  .colab-df-spinner {\n",
              "    border: 2px solid var(--fill-color);\n",
              "    border-color: transparent;\n",
              "    border-bottom-color: var(--fill-color);\n",
              "    animation:\n",
              "      spin 1s steps(1) infinite;\n",
              "  }\n",
              "\n",
              "  @keyframes spin {\n",
              "    0% {\n",
              "      border-color: transparent;\n",
              "      border-bottom-color: var(--fill-color);\n",
              "      border-left-color: var(--fill-color);\n",
              "    }\n",
              "    20% {\n",
              "      border-color: transparent;\n",
              "      border-left-color: var(--fill-color);\n",
              "      border-top-color: var(--fill-color);\n",
              "    }\n",
              "    30% {\n",
              "      border-color: transparent;\n",
              "      border-left-color: var(--fill-color);\n",
              "      border-top-color: var(--fill-color);\n",
              "      border-right-color: var(--fill-color);\n",
              "    }\n",
              "    40% {\n",
              "      border-color: transparent;\n",
              "      border-right-color: var(--fill-color);\n",
              "      border-top-color: var(--fill-color);\n",
              "    }\n",
              "    60% {\n",
              "      border-color: transparent;\n",
              "      border-right-color: var(--fill-color);\n",
              "    }\n",
              "    80% {\n",
              "      border-color: transparent;\n",
              "      border-right-color: var(--fill-color);\n",
              "      border-bottom-color: var(--fill-color);\n",
              "    }\n",
              "    90% {\n",
              "      border-color: transparent;\n",
              "      border-bottom-color: var(--fill-color);\n",
              "    }\n",
              "  }\n",
              "</style>\n",
              "\n",
              "      <script>\n",
              "        async function quickchart(key) {\n",
              "          const quickchartButtonEl =\n",
              "            document.querySelector('#' + key + ' button');\n",
              "          quickchartButtonEl.disabled = true;  // To prevent multiple clicks.\n",
              "          quickchartButtonEl.classList.add('colab-df-spinner');\n",
              "          try {\n",
              "            const charts = await google.colab.kernel.invokeFunction(\n",
              "                'suggestCharts', [key], {});\n",
              "          } catch (error) {\n",
              "            console.error('Error during call to suggestCharts:', error);\n",
              "          }\n",
              "          quickchartButtonEl.classList.remove('colab-df-spinner');\n",
              "          quickchartButtonEl.classList.add('colab-df-quickchart-complete');\n",
              "        }\n",
              "        (() => {\n",
              "          let quickchartButtonEl =\n",
              "            document.querySelector('#df-6e7e8da4-6331-4b02-bf05-faeee9ccce89 button');\n",
              "          quickchartButtonEl.style.display =\n",
              "            google.colab.kernel.accessAllowed ? 'block' : 'none';\n",
              "        })();\n",
              "      </script>\n",
              "    </div>\n",
              "\n",
              "    </div>\n",
              "  </div>\n"
            ],
            "application/vnd.google.colaboratory.intrinsic+json": {
              "type": "dataframe",
              "variable_name": "df",
              "summary": "{\n  \"name\": \"df\",\n  \"rows\": 10,\n  \"fields\": [\n    {\n      \"column\": \"material\",\n      \"properties\": {\n        \"dtype\": \"string\",\n        \"num_unique_values\": 10,\n        \"samples\": [\n          \"Platinum\",\n          \"ABS\",\n          \"Gold\"\n        ],\n        \"semantic_type\": \"\",\n        \"description\": \"\"\n      }\n    },\n    {\n      \"column\": \"density_g_cm3\",\n      \"properties\": {\n        \"dtype\": \"number\",\n        \"std\": 7.9074640547888535,\n        \"min\": 1.04,\n        \"max\": 21.45,\n        \"num_unique_values\": 10,\n        \"samples\": [\n          21.45,\n          1.04,\n          19.32\n        ],\n        \"semantic_type\": \"\",\n        \"description\": \"\"\n      }\n    },\n    {\n      \"column\": \"price_per_g_eur\",\n      \"properties\": {\n        \"dtype\": \"number\",\n        \"std\": 32.95039239404393,\n        \"min\": 0.000877,\n        \"max\": 99.26,\n        \"num_unique_values\": 8,\n        \"samples\": [\n          0.035,\n          0.000877,\n          0.03\n        ],\n        \"semantic_type\": \"\",\n        \"description\": \"\"\n      }\n    },\n    {\n      \"column\": \"type\",\n      \"properties\": {\n        \"dtype\": \"category\",\n        \"num_unique_values\": 3,\n        \"samples\": [\n          \"plastic\",\n          \"resin\",\n          \"metal\"\n        ],\n        \"semantic_type\": \"\",\n        \"description\": \"\"\n      }\n    }\n  ]\n}"
            }
          },
          "metadata": {},
          "execution_count": 121
        }
      ]
    },
    {
      "cell_type": "markdown",
      "source": [
        "Return density and price for a given material"
      ],
      "metadata": {
        "id": "lA6215stE9PU"
      }
    },
    {
      "cell_type": "code",
      "source": [
        "cols = [\"material\", \"density_g_cm3\", \"price_per_g_eur\"]\n",
        "num_cols = [\"density_g_cm3\", \"price_per_g_eur\"]"
      ],
      "metadata": {
        "id": "sTUb6GlSIa6y"
      },
      "execution_count": null,
      "outputs": []
    },
    {
      "cell_type": "code",
      "source": [
        "for col in cols:\n",
        "  df[col] = df[col].astype(str)\n",
        "  df[col] = df[col].str.replace(\",\", \".\", regex=False).str.strip()"
      ],
      "metadata": {
        "id": "DmnSn7T0KG8w"
      },
      "execution_count": null,
      "outputs": []
    },
    {
      "cell_type": "code",
      "source": [
        "df[num_cols] = df[num_cols].apply(pd.to_numeric, errors= 'coerce')"
      ],
      "metadata": {
        "id": "HFlYdK_xKVMc"
      },
      "execution_count": null,
      "outputs": []
    },
    {
      "cell_type": "markdown",
      "source": [
        "# Get materials properties"
      ],
      "metadata": {
        "id": "vngjakGbc9Aw"
      }
    },
    {
      "cell_type": "code",
      "source": [
        "def get_material_props(material):\n",
        "    \"\"\"\n",
        "    Return density (g/cm3) and price (€/g) for given material.\n",
        "    \"\"\"\n",
        "    row = df[df.material.str.lower() == material.lower()]\n",
        "    if row.empty:\n",
        "        raise ValueError(f\"{material} not found in database.\")\n",
        "\n",
        "    density = float(row.density_g_cm3)\n",
        "    price_per_g = float(row.price_per_g_eur)\n",
        "\n",
        "    return density, price_per_g"
      ],
      "metadata": {
        "id": "iSZB2gHe4ElK"
      },
      "execution_count": null,
      "outputs": []
    },
    {
      "cell_type": "code",
      "source": [
        "density, price = get_material_props(\"Gold\")\n",
        "print(f\"Density: {density} g/cm3, Price: €{price}/g\")\n",
        "\n",
        "density, price = get_material_props(\"PLA\")\n",
        "print(f\"Density: {density} g/cm3, Price: €{price}/g\")"
      ],
      "metadata": {
        "colab": {
          "base_uri": "https://localhost:8080/"
        },
        "id": "5wFPPEZJ4iiG",
        "outputId": "339dc0f6-2a27-4bbd-dc88-4fc21339eeab"
      },
      "execution_count": null,
      "outputs": [
        {
          "output_type": "stream",
          "name": "stdout",
          "text": [
            "Density: 19.32 g/cm3, Price: €99.26/g\n",
            "Density: 1.24 g/cm3, Price: €0.03/g\n"
          ]
        },
        {
          "output_type": "stream",
          "name": "stderr",
          "text": [
            "/tmp/ipython-input-96-4225156941.py:9: FutureWarning: Calling float on a single element Series is deprecated and will raise a TypeError in the future. Use float(ser.iloc[0]) instead\n",
            "  density = float(row.density_g_cm3)\n",
            "/tmp/ipython-input-96-4225156941.py:10: FutureWarning: Calling float on a single element Series is deprecated and will raise a TypeError in the future. Use float(ser.iloc[0]) instead\n",
            "  price_per_g = float(row.price_per_g_eur)\n"
          ]
        }
      ]
    },
    {
      "cell_type": "markdown",
      "source": [
        "# Ring size conversion"
      ],
      "metadata": {
        "id": "nOpE61LgeFQ9"
      }
    },
    {
      "cell_type": "code",
      "source": [
        "ring_sizes = {\n",
        "    \"EU\": {\n",
        "        45: 14.3, 46:14.7, 47:15.1, 48:15.5, 49:15.7, 52:16.7, 55:17.5, 57:18.2, 60:18.9, 62:19.8\n",
        "        },\n",
        "    \"US\": {\n",
        "        5: 15.7, 6: 16.7, 7: 17.5, 8: 18.1, 9: 18.9, 10: 19.8\n",
        "    }\n",
        "}"
      ],
      "metadata": {
        "id": "QGw5LMWW5e7r"
      },
      "execution_count": null,
      "outputs": []
    },
    {
      "cell_type": "code",
      "source": [
        "def get_ring_diameter(size, region = \"US\"):\n",
        "    \"\"\"Return ring inner diameter in mm\"\"\"\n",
        "    return ring_sizes.get(region, {}).get(size, None)"
      ],
      "metadata": {
        "id": "a3ucx6IreRPf"
      },
      "execution_count": null,
      "outputs": []
    },
    {
      "cell_type": "code",
      "source": [
        "get_ring_diameter(7)"
      ],
      "metadata": {
        "colab": {
          "base_uri": "https://localhost:8080/"
        },
        "id": "33ij5LxChvHD",
        "outputId": "fffffa95-5572-4607-8689-d944a15081a8"
      },
      "execution_count": null,
      "outputs": [
        {
          "output_type": "execute_result",
          "data": {
            "text/plain": [
              "17.3"
            ]
          },
          "metadata": {},
          "execution_count": 100
        }
      ]
    },
    {
      "cell_type": "markdown",
      "source": [
        "# Estimate volume and mass\n"
      ],
      "metadata": {
        "id": "ZGrrjcWGjdtE"
      }
    },
    {
      "cell_type": "code",
      "source": [
        "def estimate_ring_band_volume(inner_diameter_mm, thickness_mm = 2.0):\n",
        "    \"\"\"\n",
        "    Approximate volume of the ring band (argolla) as a torus in cm^3\n",
        "    \"\"\"\n",
        "    inner_radius_cm = inner_diameter_mm / 2 / 10\n",
        "    tube_radius_cm = thickness_mm / 2 / 10\n",
        "    volume = 2 * math.pi**2 * inner_radius_cm * tube_radius_cm**2\n",
        "    return volume"
      ],
      "metadata": {
        "id": "lAZE92wBdzOg"
      },
      "execution_count": null,
      "outputs": []
    },
    {
      "cell_type": "markdown",
      "source": [
        "# Volume from skeleton"
      ],
      "metadata": {
        "id": "DGApL8RShWSm"
      }
    },
    {
      "cell_type": "code",
      "source": [
        "#we know our skeleton have a length = 5023 pixels\n",
        "\n",
        "def pixels_to_cm(pixels: float, reference_cm= 10.0, reference_pixels = 255):\n",
        "    return round(pixels * (reference_cm / reference_pixels), 4)"
      ],
      "metadata": {
        "id": "v69Ig8qhh1tv"
      },
      "execution_count": null,
      "outputs": []
    },
    {
      "cell_type": "code",
      "source": [
        "pixels_to_cm(5023, 10)"
      ],
      "metadata": {
        "colab": {
          "base_uri": "https://localhost:8080/"
        },
        "id": "z1aCI73csZ9e",
        "outputId": "7f79219f-b19a-4a91-af17-6a19727334da"
      },
      "execution_count": null,
      "outputs": [
        {
          "output_type": "execute_result",
          "data": {
            "text/plain": [
              "196.9804"
            ]
          },
          "metadata": {},
          "execution_count": 124
        }
      ]
    },
    {
      "cell_type": "code",
      "source": [
        "def calculate_volume_from_skeleton(length_cm, thickness_mm):\n",
        "    thickness_cm = thickness_mm / 10\n",
        "    return round(length_cm * (thickness_cm ** 2), 4)"
      ],
      "metadata": {
        "id": "Z6gptM_JhaR6"
      },
      "execution_count": null,
      "outputs": []
    },
    {
      "cell_type": "code",
      "source": [
        "calculate_volume_from_skeleton(pixels_to_cm(5023, 5))"
      ],
      "metadata": {
        "colab": {
          "base_uri": "https://localhost:8080/"
        },
        "id": "-dSnrqAPs0FD",
        "outputId": "72f9a47d-a769-4355-be33-a8fb268dc1df"
      },
      "execution_count": null,
      "outputs": [
        {
          "output_type": "execute_result",
          "data": {
            "text/plain": [
              "3.9396"
            ]
          },
          "metadata": {},
          "execution_count": 115
        }
      ]
    },
    {
      "cell_type": "markdown",
      "source": [
        "# Cost estimation"
      ],
      "metadata": {
        "id": "E7mGNZc4eUdN"
      }
    },
    {
      "cell_type": "code",
      "source": [
        "def estimate_accessory_cost(\n",
        "    material,\n",
        "    skeleton_length_cm,\n",
        "    accessory_type,\n",
        "    include_band= False,\n",
        "    ring_size = None,\n",
        "    thickness_mm= 2.0\n",
        "):\n",
        "    density, price_per_g = get_material_props(material)\n",
        "\n",
        "    # Volumen del escudo/esqueleto\n",
        "    skeleton_volume = calculate_volume_from_skeleton(skeleton_length_cm, thickness_mm)\n",
        "\n",
        "    # Volumen adicional si es anillo\n",
        "    band_volume = 0\n",
        "    if accessory_type == \"ring\" and include_band:\n",
        "        if ring_size is None:\n",
        "            raise ValueError(\"Ring size must be specified if include_band=True for a ring.\")\n",
        "        diameter_mm = get_ring_diameter(ring_size)\n",
        "        if diameter_mm is None:\n",
        "            raise ValueError(\"Invalid ring size.\")\n",
        "        band_volume = estimate_ring_band_volume(diameter_mm, thickness_mm)\n",
        "\n",
        "    total_volume = skeleton_volume + band_volume\n",
        "    total_mass = total_volume * density\n",
        "    total_cost = total_mass * price_per_g\n",
        "\n",
        "    return {\n",
        "        \"volume_cm3\": round(total_volume, 4),\n",
        "        \"mass_g\": round(total_mass, 4),\n",
        "        \"cost_eur\": round(total_cost, 4)\n",
        "    }"
      ],
      "metadata": {
        "id": "fJJnkwSEiOX4"
      },
      "execution_count": null,
      "outputs": []
    },
    {
      "cell_type": "code",
      "source": [
        "estimate_accessory_cost(\n",
        "    material=\"steel\",\n",
        "    skeleton_length_cm=98.4902,\n",
        "    accessory_type=\"ring\",\n",
        "    include_band=True,\n",
        "    ring_size=8,\n",
        "    thickness_mm=2.0\n",
        ")"
      ],
      "metadata": {
        "colab": {
          "base_uri": "https://localhost:8080/"
        },
        "id": "ZusogFkniTzS",
        "outputId": "a18a73c8-88d3-46cc-a8a5-978f6eb7efe0"
      },
      "execution_count": null,
      "outputs": [
        {
          "output_type": "stream",
          "name": "stderr",
          "text": [
            "/tmp/ipython-input-96-4225156941.py:9: FutureWarning: Calling float on a single element Series is deprecated and will raise a TypeError in the future. Use float(ser.iloc[0]) instead\n",
            "  density = float(row.density_g_cm3)\n",
            "/tmp/ipython-input-96-4225156941.py:10: FutureWarning: Calling float on a single element Series is deprecated and will raise a TypeError in the future. Use float(ser.iloc[0]) instead\n",
            "  price_per_g = float(row.price_per_g_eur)\n"
          ]
        },
        {
          "output_type": "execute_result",
          "data": {
            "text/plain": [
              "{'volume_cm3': 4.1182, 'mass_g': 32.1223, 'cost_eur': 0.0282}"
            ]
          },
          "metadata": {},
          "execution_count": 119
        }
      ]
    },
    {
      "cell_type": "code",
      "source": [
        "estimate_accessory_cost(\n",
        "    material=\"PLA\",\n",
        "    skeleton_length_cm=98.4902,\n",
        "    accessory_type=\"ring\",\n",
        "    include_band=True,\n",
        "    ring_size=8,\n",
        "    thickness_mm=2.0\n",
        ")"
      ],
      "metadata": {
        "colab": {
          "base_uri": "https://localhost:8080/"
        },
        "id": "CNSvCO531Bck",
        "outputId": "3be4a133-faeb-4cbc-ef9b-da7c0a08d185"
      },
      "execution_count": null,
      "outputs": [
        {
          "output_type": "stream",
          "name": "stderr",
          "text": [
            "/tmp/ipython-input-96-4225156941.py:9: FutureWarning: Calling float on a single element Series is deprecated and will raise a TypeError in the future. Use float(ser.iloc[0]) instead\n",
            "  density = float(row.density_g_cm3)\n",
            "/tmp/ipython-input-96-4225156941.py:10: FutureWarning: Calling float on a single element Series is deprecated and will raise a TypeError in the future. Use float(ser.iloc[0]) instead\n",
            "  price_per_g = float(row.price_per_g_eur)\n"
          ]
        },
        {
          "output_type": "execute_result",
          "data": {
            "text/plain": [
              "{'volume_cm3': 4.1182, 'mass_g': 5.1066, 'cost_eur': 0.1532}"
            ]
          },
          "metadata": {},
          "execution_count": 123
        }
      ]
    }
  ]
}